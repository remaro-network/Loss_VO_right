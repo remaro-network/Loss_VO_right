{
 "cells": [
  {
   "cell_type": "code",
   "execution_count": 1,
   "metadata": {},
   "outputs": [],
   "source": [
    "import os\n",
    "import pprint\n",
    "import pandas as pd\n",
    "import numpy as np\n",
    "import copy\n",
    "import glob\n",
    "from evo.tools import log\n",
    "from evo.core import metrics\n",
    "from evo.tools import file_interface\n",
    "from evo.core import sync\n",
    "log.configure_logging()\n",
    "from evo.tools import plot\n",
    "from evo.tools.plot import PlotMode\n",
    "from evo.core.metrics import PoseRelation, Unit\n",
    "from evo.tools.settings import SETTINGS\n",
    "\n",
    "# temporarily override some package settings\n",
    "SETTINGS.plot_figsize = [6, 6]\n",
    "SETTINGS.plot_split = True\n",
    "SETTINGS.plot_usetex = False\n",
    "# magic plot configuration\n",
    "import matplotlib.pyplot as plt"
   ]
  },
  {
   "cell_type": "code",
   "execution_count": 2,
   "metadata": {},
   "outputs": [],
   "source": [
    "def metrics_dataframe(reference,estimate,algorithm,dataset,trajectory,correct_scale=True,correct_only_scale=False,n=-1,use_aligned_trajectories = True,t_offset = .1):\n",
    "    reference, estimate = sync.associate_trajectories(reference, estimate)\n",
    "    est = copy.deepcopy(estimate)\n",
    "    if use_aligned_trajectories:\n",
    "        est.align(reference, correct_scale=correct_scale, correct_only_scale=correct_only_scale, n=n)\n",
    "\n",
    "    if use_aligned_trajectories:\n",
    "        data = (reference, est) \n",
    "    else:\n",
    "        data = (reference, estimate)\n",
    "    \n",
    "    result_dict = {}\n",
    "    #APE_t\n",
    "    pose_relation = metrics.PoseRelation.translation_part\n",
    "    ape_metric = metrics.APE(pose_relation)\n",
    "    ape_metric.process_data(data)\n",
    "    ape_stats = ape_metric.get_all_statistics()\n",
    "    result_dict.update({(algorithm, dataset,trajectory,'ape_t'):ape_stats})\n",
    "    #APE_rad\n",
    "    pose_relation = metrics.PoseRelation.rotation_angle_rad\n",
    "    ape_metric = metrics.APE(pose_relation)\n",
    "    ape_metric.process_data(data)\n",
    "    ape_stats = ape_metric.get_all_statistics()\n",
    "    result_dict.update({(algorithm, dataset,trajectory,'ape_rad'):ape_stats})\n",
    "    \n",
    "    #RPE_t\n",
    "    pose_relation = metrics.PoseRelation.translation_part\n",
    "    rpe_metric = metrics.RPE(pose_relation)\n",
    "    rpe_metric.process_data(data)\n",
    "    rpe_stats = rpe_metric.get_all_statistics()\n",
    "    result_dict.update({(algorithm, dataset,trajectory,'rpe_t'):rpe_stats})\n",
    "    #RPE_rad\n",
    "    pose_relation = metrics.PoseRelation.rotation_angle_rad\n",
    "    rpe_metric = metrics.RPE(pose_relation)\n",
    "    rpe_metric.process_data(data)\n",
    "    rpe_stats = rpe_metric.get_all_statistics()\n",
    "    result_dict.update({(algorithm, dataset,trajectory,'rpe_rad'):rpe_stats})\n",
    "    \n",
    "    result_df = pd.DataFrame(result_dict)\n",
    "    return result_df\n",
    "\n",
    "\n"
   ]
  },
  {
   "cell_type": "code",
   "execution_count": 3,
   "metadata": {},
   "outputs": [
    {
     "name": "stdout",
     "output_type": "stream",
     "text": [
      "4539 poses, 3722.186m path length\n",
      "4539 poses, 7312.976m path length\n"
     ]
    },
    {
     "ename": "SyncException",
     "evalue": "trajectories must be PoseTrajectory3D objects",
     "output_type": "error",
     "traceback": [
      "\u001b[0;31m---------------------------------------------------------------------------\u001b[0m",
      "\u001b[0;31mSyncException\u001b[0m                             Traceback (most recent call last)",
      "Cell \u001b[0;32mIn[3], line 23\u001b[0m\n\u001b[1;32m     21\u001b[0m \u001b[39mprint\u001b[39m(ref)\n\u001b[1;32m     22\u001b[0m \u001b[39mprint\u001b[39m(estimate)\n\u001b[0;32m---> 23\u001b[0m traj_ref, traj_est \u001b[39m=\u001b[39m sync\u001b[39m.\u001b[39;49massociate_trajectories(ref, estimate)\n\u001b[1;32m     24\u001b[0m \u001b[39m# df = metrics_dataframe(ref,estimate,algorithm, 'KITTI', trajectory,correct_scale=False,correct_only_scale=False,n=-1,use_aligned_trajectories = False,t_offset = .1)\u001b[39;00m\n\u001b[1;32m     25\u001b[0m \u001b[39m# result_df = pd.concat([result_df, df], axis=\"columns\", join=\"outer\")\u001b[39;00m\n",
      "File \u001b[0;32m~/anaconda3/envs/olayaenv/lib/python3.10/site-packages/evo/core/sync.py:84\u001b[0m, in \u001b[0;36massociate_trajectories\u001b[0;34m(traj_1, traj_2, max_diff, offset_2, first_name, snd_name)\u001b[0m\n\u001b[1;32m     72\u001b[0m \u001b[39m\u001b[39m\u001b[39m\"\"\"\u001b[39;00m\n\u001b[1;32m     73\u001b[0m \u001b[39mSynchronizes two trajectories by matching their timestamps.\u001b[39;00m\n\u001b[1;32m     74\u001b[0m \u001b[39m:param traj_1: trajectory.PoseTrajectory3D object of first trajectory\u001b[39;00m\n\u001b[0;32m   (...)\u001b[0m\n\u001b[1;32m     80\u001b[0m \u001b[39m:return: traj_1, traj_2 (synchronized)\u001b[39;00m\n\u001b[1;32m     81\u001b[0m \u001b[39m\"\"\"\u001b[39;00m\n\u001b[1;32m     82\u001b[0m \u001b[39mif\u001b[39;00m \u001b[39mnot\u001b[39;00m \u001b[39misinstance\u001b[39m(traj_1, PoseTrajectory3D) \\\n\u001b[1;32m     83\u001b[0m     \u001b[39mor\u001b[39;00m \u001b[39mnot\u001b[39;00m \u001b[39misinstance\u001b[39m(traj_2, PoseTrajectory3D):\n\u001b[0;32m---> 84\u001b[0m     \u001b[39mraise\u001b[39;00m SyncException(\u001b[39m\"\u001b[39m\u001b[39mtrajectories must be PoseTrajectory3D objects\u001b[39m\u001b[39m\"\u001b[39m)\n\u001b[1;32m     86\u001b[0m snd_longer \u001b[39m=\u001b[39m \u001b[39mlen\u001b[39m(traj_2\u001b[39m.\u001b[39mtimestamps) \u001b[39m>\u001b[39m \u001b[39mlen\u001b[39m(traj_1\u001b[39m.\u001b[39mtimestamps)\n\u001b[1;32m     87\u001b[0m traj_long \u001b[39m=\u001b[39m copy\u001b[39m.\u001b[39mdeepcopy(traj_2) \u001b[39mif\u001b[39;00m snd_longer \u001b[39melse\u001b[39;00m copy\u001b[39m.\u001b[39mdeepcopy(traj_1)\n",
      "\u001b[0;31mSyncException\u001b[0m: trajectories must be PoseTrajectory3D objects"
     ]
    }
   ],
   "source": [
    "experiment = \"icra23\"\n",
    "dataset = \"KITTI\"\n",
    "trajectories = [\"00\", \"01\", \"02\", \"03\", \"04\", \"05\", \"06\", \"07\",\"08\", \"09\", \"10\"]\n",
    "algorithms = [\"deepvo\", \"deepvo_se3\", \"deepvo_quat\", \"deepvo_quat_geodesic\"]\n",
    "\n",
    "result_df = pd.DataFrame() \n",
    "results_dict = {\"algorithm\": algorithms,\n",
    "                \"dataset\": [\"KITTI\"],\n",
    "                \"MIMIR\":trajectories}\n",
    "\n",
    "for trajectory in trajectories:\n",
    "    abs_dataset_path = os.path.join(os.getcwd(),experiment)# Edit this to path of dataset w.r.t. current file\n",
    "\n",
    "    ref_file = os.path.join(abs_dataset_path,\"evo_\"+trajectory+\"_target_absolute.txt\")\n",
    "    timestamp_file =os.getcwd()+\"/groundtruths/kitti/data_odometry_calib/dataset/sequences/\"+trajectory+\"/times.txt\"\n",
    "    ref = file_interface.read_kitti_poses_file(ref_file)\n",
    "\n",
    "    for algorithm in algorithms:\n",
    "        est_file = os.path.join(abs_dataset_path,\"evo_\"+trajectory+\"_\"+algorithm+\"_absolute.txt\")\n",
    "        estimate = file_interface.read_kitti_poses_file(est_file)\n",
    "        print(ref)\n",
    "        print(estimate)\n",
    "        traj_ref, traj_est = sync.associate_trajectories(ref, estimate)\n",
    "        # df = metrics_dataframe(ref,estimate,algorithm, 'KITTI', trajectory,correct_scale=False,correct_only_scale=False,n=-1,use_aligned_trajectories = False,t_offset = .1)\n",
    "        # result_df = pd.concat([result_df, df], axis=\"columns\", join=\"outer\")"
   ]
  }
 ],
 "metadata": {
  "kernelspec": {
   "display_name": "olayaenv",
   "language": "python",
   "name": "python3"
  },
  "language_info": {
   "codemirror_mode": {
    "name": "ipython",
    "version": 3
   },
   "file_extension": ".py",
   "mimetype": "text/x-python",
   "name": "python",
   "nbconvert_exporter": "python",
   "pygments_lexer": "ipython3",
   "version": "3.10.8"
  },
  "orig_nbformat": 4
 },
 "nbformat": 4,
 "nbformat_minor": 2
}
